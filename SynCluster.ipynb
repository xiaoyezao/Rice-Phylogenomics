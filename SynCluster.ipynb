{
 "cells": [
  {
   "cell_type": "markdown",
   "metadata": {},
   "source": [
    "use the following settings in **query_pangenes()** to output pangenome:\n",
    ">\n",
    ">pangenome <- query_pangenes(\n",
    "  >gsParam,\n",
    "  >bed = NULL,\n",
    "  >refGenome = \"sp21\",\n",
    "  >transform = TRUE,\n",
    "  >showArrayMem = FALSE,\n",
    "  >showNSOrtho = FALSE,\n",
    "  >maxMem2Show = Inf,\n",
    "  >showUnPlacedPgs = FALSE\n",
    ">)\n",
    "\n",
    "the pan-genome table looks pretty dirty, let's do the following steps to clean it before moving forward:\n",
    "- a. take only the relevant information\n",
    "- b. prefix tag (normally unique speceis's code) to gene identifiers (if you have done this before running GENESPACE, then ignore this)\n",
    "- c. replace empty cell with \"NA\""
   ]
  },
  {
   "cell_type": "code",
   "execution_count": null,
   "metadata": {},
   "outputs": [],
   "source": [
    "import os\n",
    "import pandas as pd\n",
    "from modules import prefix_cell,pangenome_cleaner,parse_pangenome\n",
    "\n",
    "pangenome = \"pangenome.txt\"\n",
    "all = \"pangenome_all.txt\"\n",
    "syn = \"pangenome_syn.txt\"\n",
    "synnet = \"pangenome_synnet.txt\"\n",
    "\n",
    "## let's clean the raw pangenome table obtained from GENESPACE\n",
    "clean_pangenome = pangenome_cleaner(pangenome)\n",
    "\n",
    "## let's then parse the cleaned pangenome\n",
    "parse_pangenome(clean_pangenome,all,syn,synnet)\n",
    "\n",
    "## here we get all the syntenic genes which can be used as input for R package syntenet"
   ]
  }
 ],
 "metadata": {
  "kernelspec": {
   "display_name": "base",
   "language": "python",
   "name": "python3"
  },
  "language_info": {
   "codemirror_mode": {
    "name": "ipython",
    "version": 3
   },
   "file_extension": ".py",
   "mimetype": "text/x-python",
   "name": "python",
   "nbconvert_exporter": "python",
   "pygments_lexer": "ipython3",
   "version": "3.9.13"
  }
 },
 "nbformat": 4,
 "nbformat_minor": 2
}
